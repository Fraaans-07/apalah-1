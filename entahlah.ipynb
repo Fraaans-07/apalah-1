{
 "cells": [
  {
   "cell_type": "code",
   "execution_count": 27,
   "metadata": {},
   "outputs": [],
   "source": [
    "from constraint import Problem, AllDifferentConstraint\n",
    "\n",
    "# Daftar kegiatan dan domain waktu\n",
    "kegiatan = ['Seminar', 'Workshop', 'Pameran', 'Pertunjukan']\n",
    "domain_waktu = {\n",
    "    'Seminar': [(9, 12), (14, 17)],\n",
    "    'Workshop': [(10, 13), (15, 18)],\n",
    "    'Pameran': [(11, 14), (16, 19)],\n",
    "    'Pertunjukan': [(18, 21)],\n",
    "}\n",
    "\n",
    "# Inisialisasi CSP\n",
    "problem = Problem()\n",
    "\n",
    "# Tambahkan variabel untuk setiap kegiatan dengan domain waktu yang sesuai\n",
    "for k in kegiatan:\n",
    "    problem.addVariable(k, domain_waktu[k])\n",
    "\n",
    "# Tambahkan kendala untuk memastikan kegiatan berbeda waktu dan ruang\n",
    "for k1 in kegiatan:\n",
    "    for k2 in kegiatan:\n",
    "        if k1 != k2:\n",
    "            problem.addConstraint(AllDifferentConstraint(), (k1, k2))\n"
   ]
  },
  {
   "cell_type": "code",
   "execution_count": 28,
   "metadata": {},
   "outputs": [],
   "source": [
    "# Fungsi evaluasi sederhana\n",
    "def evaluasi(jadwal):\n",
    "    pelanggaran = 0\n",
    "    for kegiatan in jadwal:\n",
    "        for waktu in jadwal[kegiatan]:\n",
    "            for k, v in jadwal.items():\n",
    "                if k != kegiatan and waktu in v:\n",
    "                    pelanggaran += 1\n",
    "    return pelanggaran\n"
   ]
  },
  {
   "cell_type": "code",
   "execution_count": 29,
   "metadata": {},
   "outputs": [],
   "source": [
    "# Definisikan algoritma Hill Climbing\n",
    "def hill_climbing(iterasi_max):\n",
    "    solusi = problem.getSolution()\n",
    "    nilai = evaluasi(solusi)\n",
    "    \n",
    "    for _ in range(iterasi_max):\n",
    "        jadwal_baru = problem.getSolution()\n",
    "        nilai_baru = evaluasi(jadwal_baru)\n",
    "        \n",
    "        if nilai_baru < nilai:\n",
    "            solusi = jadwal_baru\n",
    "            nilai = nilai_baru\n",
    "    \n",
    "    return solusi\n"
   ]
  },
  {
   "cell_type": "code",
   "execution_count": 30,
   "metadata": {},
   "outputs": [
    {
     "name": "stdout",
     "output_type": "stream",
     "text": [
      "Solusi Terbaik:\n",
      "{'Pertunjukan': (18, 21), 'Pameran': (16, 19), 'Seminar': (14, 17), 'Workshop': (15, 18)}\n",
      "Nilai Evaluasi:\n",
      "2\n"
     ]
    }
   ],
   "source": [
    "# Jalankan algoritma dengan 1000 iterasi\n",
    "solusi_terbaik = hill_climbing(1000)\n",
    "print(\"Solusi Terbaik:\")\n",
    "print(solusi_terbaik)\n",
    "print(\"Nilai Evaluasi:\")\n",
    "print(evaluasi(solusi_terbaik))\n"
   ]
  }
 ],
 "metadata": {
  "kernelspec": {
   "display_name": "Python 3",
   "language": "python",
   "name": "python3"
  },
  "language_info": {
   "codemirror_mode": {
    "name": "ipython",
    "version": 3
   },
   "file_extension": ".py",
   "mimetype": "text/x-python",
   "name": "python",
   "nbconvert_exporter": "python",
   "pygments_lexer": "ipython3",
   "version": "3.9.13"
  }
 },
 "nbformat": 4,
 "nbformat_minor": 2
}
